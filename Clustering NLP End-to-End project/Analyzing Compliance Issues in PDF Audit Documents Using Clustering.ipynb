{
 "cells": [
  {
   "cell_type": "markdown",
   "metadata": {},
   "source": [
    "                             Analyzing Compliance Issues in PDF Audit Documents Using Clustering                        "
   ]
  },
  {
   "cell_type": "markdown",
   "metadata": {},
   "source": [
    "Import neccessary libraries"
   ]
  },
  {
   "cell_type": "code",
   "execution_count": 2,
   "metadata": {},
   "outputs": [
    {
     "name": "stderr",
     "output_type": "stream",
     "text": [
      "[nltk_data] Downloading package punkt to\n",
      "[nltk_data]     C:\\Users\\rr14\\AppData\\Roaming\\nltk_data...\n",
      "[nltk_data]   Package punkt is already up-to-date!\n",
      "[nltk_data] Downloading package stopwords to\n",
      "[nltk_data]     C:\\Users\\rr14\\AppData\\Roaming\\nltk_data...\n",
      "[nltk_data]   Package stopwords is already up-to-date!\n"
     ]
    },
    {
     "data": {
      "text/plain": [
       "True"
      ]
     },
     "execution_count": 2,
     "metadata": {},
     "output_type": "execute_result"
    }
   ],
   "source": [
    "import pandas as pd\n",
    "import os\n",
    "import fitz  \n",
    "import re\n",
    "\n",
    "import nltk\n",
    "from nltk.corpus import stopwords\n",
    "from nltk.tokenize import word_tokenize\n",
    "from nltk.stem import PorterStemmer\n",
    "\n",
    "from collections import defaultdict\n",
    "from sklearn.feature_extraction.text import TfidfVectorizer\n",
    "from sklearn.cluster import KMeans\n",
    "\n",
    "from sklearn.manifold import TSNE\n",
    "import matplotlib.pyplot as plt\n",
    "from sklearn.metrics import silhouette_score\n",
    "\n",
    "nltk.download('punkt')\n",
    "nltk.download('stopwords')"
   ]
  },
  {
   "cell_type": "markdown",
   "metadata": {},
   "source": [
    "1. Text extraction"
   ]
  },
  {
   "cell_type": "code",
   "execution_count": 3,
   "metadata": {},
   "outputs": [],
   "source": [
    "# Function to extract text from a PDF file using PyMuPDF\n",
    "def extract_text_from_pdf(pdf_path):\n",
    "    text = ''\n",
    "    doc = fitz.open(pdf_path)\n",
    "    for page_num in range(len(doc)):\n",
    "        page = doc.load_page(page_num)\n",
    "        text += page.get_text()\n",
    "    doc.close()\n",
    "    return text"
   ]
  },
  {
   "cell_type": "markdown",
   "metadata": {},
   "source": [
    "2. Cleaning - \"Tokenization\", \"Lowercasing\", \"Removing Non-Alphanumeric Characters\", \"Removing Stopwords\" and \"Lemmatization\"."
   ]
  },
  {
   "cell_type": "code",
   "execution_count": 4,
   "metadata": {},
   "outputs": [],
   "source": [
    "# Function to clean text using NLTK \n",
    "def clean_and_tokenize(text):\n",
    "    # Remove non-alphanumeric characters\n",
    "    text = re.sub(r'[^A-Za-z0-9\\s]', '', text)\n",
    "    # Convert to lowercase\n",
    "    text = text.lower()\n",
    "    # Tokenize\n",
    "    tokens = word_tokenize(text)\n",
    "    # Remove stopwords\n",
    "    stop_words = set(stopwords.words('english'))\n",
    "    tokens = [token for token in tokens if token not in stop_words]\n",
    "    # Lemmatization - reduce words to their root/base form (normalize words)\n",
    "    porter = PorterStemmer()\n",
    "    tokens = [porter.stem(token) for token in tokens]\n",
    "    # Join tokens back into a string\n",
    "    cleaned_text = ' '.join(tokens)\n",
    "    return cleaned_text"
   ]
  },
  {
   "cell_type": "markdown",
   "metadata": {},
   "source": [
    "3. Processing extracted text"
   ]
  },
  {
   "cell_type": "code",
   "execution_count": 5,
   "metadata": {},
   "outputs": [
    {
     "name": "stdout",
     "output_type": "stream",
     "text": [
      "MuPDF error: syntax error: cannot find XObject resource 'R298'\n",
      "\n"
     ]
    }
   ],
   "source": [
    "pdf_directory = 'Audit Data'\n",
    "\n",
    "# List to store extracted texts and corresponding filenames\n",
    "texts = []\n",
    "filenames = []\n",
    "\n",
    "# Loop through each PDF file in the directory\n",
    "for filename in os.listdir(pdf_directory):\n",
    "    if filename.endswith('.pdf'):\n",
    "        pdf_path = os.path.join(pdf_directory, filename)\n",
    "        text = extract_text_from_pdf(pdf_path)\n",
    "        cleaned_text = clean_and_tokenize(text)\n",
    "        texts.append(cleaned_text)\n",
    "        filenames.append(filename)"
   ]
  },
  {
   "cell_type": "markdown",
   "metadata": {},
   "source": [
    "4. Loading Data"
   ]
  },
  {
   "cell_type": "code",
   "execution_count": 6,
   "metadata": {},
   "outputs": [],
   "source": [
    "df = pd.DataFrame({'filename': filenames, 'text': texts})\n",
    "\n",
    "# Assuming 'texts', 'filenames', and 'clusters' are already defined\n",
    "locations = ['Austria', 'BRUGEL', 'Belgium Federal', 'Flanders', 'Belgium Wallonia', 'Croatia', 'DPCY', 'Czech Republic', \n",
    "             'Denmark', 'Estonia', 'Finland', 'France', 'Gasgrid Finland', 'Germany', 'Greece', 'Iceland', 'Ireland', 'GSE', 'Latvia', \n",
    "             'Lithuania', 'Luxembourg', 'Netherlands', 'Norway', 'Serbia', 'Slovakia', 'Slovenia', 'GTS Spain', 'Sweden', \n",
    "             'Switzerland', 'Portugal', 'DPLV-AST', 'Hungary', 'Spain', 'Belgium']\n",
    "\n",
    "# Function to extract locations from filename\n",
    "def extract_locations(filename, locations):\n",
    "    extracted_locations = []\n",
    "    for loc in locations:\n",
    "        # Check if location name is in filename (case insensitive)\n",
    "        if loc.lower() in filename.lower():  \n",
    "            extracted_locations.append(loc)\n",
    "    return extracted_locations\n",
    "\n",
    "# Apply extraction function to each filename in df\n",
    "df['locations'] = df['filename'].apply(lambda x: extract_locations(x, locations))\n",
    "df['locations'] = df['locations'].apply(lambda x: ''.join(x))\n",
    "\n"
   ]
  },
  {
   "cell_type": "code",
   "execution_count": 7,
   "metadata": {},
   "outputs": [
    {
     "data": {
      "text/html": [
       "<div>\n",
       "<style scoped>\n",
       "    .dataframe tbody tr th:only-of-type {\n",
       "        vertical-align: middle;\n",
       "    }\n",
       "\n",
       "    .dataframe tbody tr th {\n",
       "        vertical-align: top;\n",
       "    }\n",
       "\n",
       "    .dataframe thead th {\n",
       "        text-align: right;\n",
       "    }\n",
       "</style>\n",
       "<table border=\"1\" class=\"dataframe\">\n",
       "  <thead>\n",
       "    <tr style=\"text-align: right;\">\n",
       "      <th></th>\n",
       "      <th>filename</th>\n",
       "      <th>text</th>\n",
       "      <th>locations</th>\n",
       "    </tr>\n",
       "  </thead>\n",
       "  <tbody>\n",
       "    <tr>\n",
       "      <th>0</th>\n",
       "      <td>AIB Domain Protocol Energinet Denmark  22-02-2...</td>\n",
       "      <td>eec electr domain protocol denmark prepar ener...</td>\n",
       "      <td>Denmark</td>\n",
       "    </tr>\n",
       "    <tr>\n",
       "      <th>1</th>\n",
       "      <td>AIB-2019-DPIT-GSE-Domain Protocol 21-10-2019_0...</td>\n",
       "      <td>eec electr domain protocol itali prepar gestor...</td>\n",
       "      <td>GSE</td>\n",
       "    </tr>\n",
       "    <tr>\n",
       "      <th>2</th>\n",
       "      <td>AIB-2019-DPSE-Domain Protocol Sweden version 2...</td>\n",
       "      <td>eec electr domain protocol sweden prepar energ...</td>\n",
       "      <td>Sweden</td>\n",
       "    </tr>\n",
       "    <tr>\n",
       "      <th>3</th>\n",
       "      <td>AIB-2020-DPBEB-20200904 Domain Protocol BRUGEL...</td>\n",
       "      <td>127 eec electr domain protocol brussel belgium...</td>\n",
       "      <td>BRUGEL</td>\n",
       "    </tr>\n",
       "    <tr>\n",
       "      <th>4</th>\n",
       "      <td>AIB-2020-DPBEF-20200904 Domain Protocol VREG F...</td>\n",
       "      <td>eec electr domain protocol flander prepar vreg...</td>\n",
       "      <td>Flanders</td>\n",
       "    </tr>\n",
       "  </tbody>\n",
       "</table>\n",
       "</div>"
      ],
      "text/plain": [
       "                                            filename  \\\n",
       "0  AIB Domain Protocol Energinet Denmark  22-02-2...   \n",
       "1  AIB-2019-DPIT-GSE-Domain Protocol 21-10-2019_0...   \n",
       "2  AIB-2019-DPSE-Domain Protocol Sweden version 2...   \n",
       "3  AIB-2020-DPBEB-20200904 Domain Protocol BRUGEL...   \n",
       "4  AIB-2020-DPBEF-20200904 Domain Protocol VREG F...   \n",
       "\n",
       "                                                text locations  \n",
       "0  eec electr domain protocol denmark prepar ener...   Denmark  \n",
       "1  eec electr domain protocol itali prepar gestor...       GSE  \n",
       "2  eec electr domain protocol sweden prepar energ...    Sweden  \n",
       "3  127 eec electr domain protocol brussel belgium...    BRUGEL  \n",
       "4  eec electr domain protocol flander prepar vreg...  Flanders  "
      ]
     },
     "execution_count": 7,
     "metadata": {},
     "output_type": "execute_result"
    }
   ],
   "source": [
    "df.head()"
   ]
  },
  {
   "cell_type": "markdown",
   "metadata": {},
   "source": [
    "5. Data Transformation - \"TF-IDF\""
   ]
  },
  {
   "cell_type": "code",
   "execution_count": 8,
   "metadata": {},
   "outputs": [],
   "source": [
    "# Vectorize the cleaned text data using TF-IDF\n",
    "vectorizer = TfidfVectorizer(max_features=10000)\n",
    "X = vectorizer.fit_transform(df['text'])\n",
    "\n",
    "# Convert the TF-IDF matrix to a DataFrame for better visualization\n",
    "tfidf_df = pd.DataFrame(X.toarray(), columns=vectorizer.get_feature_names_out())"
   ]
  },
  {
   "cell_type": "code",
   "execution_count": 9,
   "metadata": {},
   "outputs": [
    {
     "name": "stdout",
     "output_type": "stream",
     "text": [
      "[0.05068656821656082, -0.0021986407007236865, -0.0017328313077264149, -0.0004792877550943077, -0.011797031537372408, -0.011217258274056745, -0.009077800428764524, -0.03387572339709357, -0.03147538384550386]\n",
      "Optimal number of clusters (Silhouette Score method): 2\n"
     ]
    },
    {
     "data": {
      "image/png": "[encoded data removed]",
      "text/plain": [
       "<Figure size 600x400 with 1 Axes>"
      ]
     },
     "metadata": {},
     "output_type": "display_data"
    }
   ],
   "source": [
    "silhouette_scores = []\n",
    "\n",
    "# To find the optimal 'k' value\n",
    "for k in range(2, 11):\n",
    "    kmeans = KMeans(n_clusters=k, random_state=42)\n",
    "    cluster_labels = kmeans.fit_predict(X)\n",
    "    silhouette_avg = silhouette_score(X, cluster_labels)\n",
    "    silhouette_scores.append(silhouette_avg)\n",
    "print(silhouette_scores)\n",
    "\n",
    " # +2 because range starts from 2\n",
    "optimal_k_silhouette = silhouette_scores.index(max(silhouette_scores)) + 2 \n",
    "print(f'Optimal number of clusters (Silhouette Score method): {optimal_k_silhouette}')\n",
    "\n",
    "# Plotting the Silhouette scores\n",
    "plt.figure(figsize=(6, 4))\n",
    "plt.plot(range(2, 11), silhouette_scores, marker='o')\n",
    "plt.title('Silhouette Score for Optimal k')\n",
    "plt.xlabel('Number of Clusters (k)')\n",
    "plt.ylabel('Silhouette Score')\n",
    "plt.show()"
   ]
  },
  {
   "cell_type": "markdown",
   "metadata": {},
   "source": [
    "6. Model fitting - \"K-Means\""
   ]
  },
  {
   "cell_type": "code",
   "execution_count": 10,
   "metadata": {},
   "outputs": [
    {
     "name": "stdout",
     "output_type": "stream",
     "text": [
      "File: AIB Domain Protocol Energinet Denmark  22-02-2021.pdf, Cluster: 1\n",
      "File: AIB-2019-DPIT-GSE-Domain Protocol 21-10-2019_0 (1).pdf, Cluster: 1\n",
      "File: AIB-2019-DPSE-Domain Protocol Sweden version 2.pdf, Cluster: 1\n",
      "File: AIB-2020-DPBEB-20200904 Domain Protocol BRUGEL - v1.pdf, Cluster: 1\n",
      "File: AIB-2020-DPBEF-20200904 Domain Protocol VREG Flanders.pdf, Cluster: 1\n",
      "File: AIB-2020-DPLT-20201208 Domain Protocol Lithuania EECS7_0.pdf, Cluster: 1\n",
      "File: AIB-2021-DPEE-01 - Estonia - Elering AS Domain Protocol_20210210_clean.pdf, Cluster: 1\n",
      "File: AIB-2021-DPSI- Domain Protocol Slovenia 2021115.pdf, Cluster: 1\n",
      "File: AIB-2022-DPCY-Domain Protocol Release 2_clean.pdf, Cluster: 1\n",
      "File: AIB-2022-DPFI-Domain Protocol Finland 20220325.pdf, Cluster: 1\n",
      "File: AIB-2022-DPLV-AST Domain Protocol - 20220922.pdf, Cluster: 1\n",
      "File: AIB-2022-DPNL-VertiCer Netherlands Domain Protocol v3.7 - 20230126.pdf, Cluster: 1\n",
      "File: AIB-2022-DPPT-REN Portugal Domain Protocol - 22092022.pdf, Cluster: 0\n",
      "File: AIB-2023-DPAT-E-Control Austria Domain Protocol 25052023.pdf, Cluster: 1\n",
      "File: AIB-2023-DPBE-CREG Belgium Domain Protocol 25052023.pdf, Cluster: 1\n",
      "File: AIB-2023-DPCZ-OTE Czech Republic Domain Protocol_230920.pdf, Cluster: 1\n",
      "File: AIB-2023-DPES-CNMC Spain Domain Protocol 26012023.pdf, Cluster: 1\n",
      "File: AIB-2023-DPESG-Enagas GTS Spain Domain Protocol - Gas_231213.pdf, Cluster: 1\n",
      "File: AIB-2023-DPFR-EEX France Domain Protocol_231120.pdf, Cluster: 0\n",
      "File: AIB-2023-DPGR-DAPEEP Greece Domain Protocol 20231220.pdf, Cluster: 1\n",
      "File: AIB-2023-DPHU-MEKH-Hungary Domain Protocol_Clean version 230929.pdf, Cluster: 1\n",
      "File: AIB-2023-DPIE-SEMO Ireland Domain Protocol 25052023.pdf, Cluster: 1\n",
      "File: AIB-2023-DPLU-ILR Luxembourg Domain Protocol Luxembourg 25052023.pdf, Cluster: 1\n",
      "File: AIB-2023-DPLVG-Conexus Baltic Grid Latvia Domain Protocol - Gas_20231122.pdf, Cluster: 1\n",
      "File: AIB-2023-DPNO-Statnett Norway - Domain Protocol - 16032023.pdf, Cluster: 1\n",
      "File: AIB-2023-DPRS-EMS Serbia Domain Protocol v3 - 20230126.pdf, Cluster: 1\n",
      "File: AIB-2023-DPSK-OKTE Slovakia Domain Protocol - 20230920.pdf, Cluster: 1\n",
      "File: AIB-2024-DPFIG-Gasgrid Finland - Gas Hydrogen_240220.pdf, Cluster: 1\n",
      "File: AIB-2024-DPHR-HROTE Croatia Domain Protocol 240123.pdf, Cluster: 1\n",
      "File: AIB-Belgium Wallonia - 19-02-2018.pdf, Cluster: 1\n",
      "File: AIB-DP_Switzerland_V0.3_251018_inc_annexes.pdf, Cluster: 0\n",
      "File: AIB-Germany - 28-06-2018.pdf, Cluster: 1\n",
      "File: AIB-Iceland - 14-10-2015 v2_3.pdf, Cluster: 1\n"
     ]
    }
   ],
   "source": [
    "# KMeans clustering \n",
    "kmeans = KMeans(n_clusters=2, random_state=42)\n",
    "clusters = kmeans.fit_predict(X)\n",
    "df['cluster_label'] = kmeans.fit_predict(X)\n",
    "\n",
    "# Printing cluster labels for each document\n",
    "for i, filename in enumerate(filenames):\n",
    "    print(f\"File: {filename}, Cluster: {clusters[i]}\")"
   ]
  },
  {
   "cell_type": "markdown",
   "metadata": {},
   "source": [
    "7. Visualization of clusters - \"T-SNE\""
   ]
  },
  {
   "cell_type": "code",
   "execution_count": 11,
   "metadata": {},
   "outputs": [
    {
     "data": {
      "image/png": "[encoded data removed]",
      "text/plain": [
       "<Figure size 600x400 with 2 Axes>"
      ]
     },
     "metadata": {},
     "output_type": "display_data"
    }
   ],
   "source": [
    "# Reduce dimensionality to 2 dimensions using t-SNE\n",
    "tsne = TSNE(n_components=2, random_state=42)\n",
    "X_tsne = tsne.fit_transform(X.toarray())\n",
    "\n",
    "# Plotting clusters\n",
    "plt.figure(figsize=(6, 4))\n",
    "scatter = plt.scatter(X_tsne[:, 0], X_tsne[:, 1], c=clusters, cmap='plasma', s=50, alpha=0.8)\n",
    "plt.colorbar(scatter, label='Cluster')\n",
    "plt.title('t-SNE Visualization of Audit Documents')\n",
    "plt.show()"
   ]
  },
  {
   "cell_type": "markdown",
   "metadata": {},
   "source": [
    "8. Cluster summerization"
   ]
  },
  {
   "cell_type": "code",
   "execution_count": 12,
   "metadata": {},
   "outputs": [
    {
     "name": "stdout",
     "output_type": "stream",
     "text": [
      "Cluster 0:\n",
      "Top Keywords: eex, ren, die, product, der, devic, de, eego, eec, unspecifi\n",
      "Representative Documents:\n",
      "- AIB-2022-DPPT-REN Portugal Domain Protocol - 22092022.pdf\n",
      "- AIB-2023-DPFR-EEX France Domain Protocol_231120.pdf\n",
      "- AIB-DP_Switzerland_V0.3_251018_inc_annexes.pdf\n",
      "\n",
      "Cluster 1:\n",
      "Top Keywords: eec, product, devic, issu, go, account, certif, domain, electr, energi\n",
      "Representative Documents:\n",
      "- AIB Domain Protocol Energinet Denmark  22-02-2021.pdf\n",
      "- AIB-2019-DPIT-GSE-Domain Protocol 21-10-2019_0 (1).pdf\n",
      "- AIB-2019-DPSE-Domain Protocol Sweden version 2.pdf\n",
      "\n"
     ]
    }
   ],
   "source": [
    "# Summarize each cluster\n",
    "cluster_summaries = defaultdict(list)\n",
    "num_clusters = 2\n",
    "for cluster_label in range(num_clusters):\n",
    "    cluster_df = df[df['cluster_label'] == cluster_label]\n",
    "    cluster_text = cluster_df['text']\n",
    "    \n",
    "    # Extract keywords using TF-IDF\n",
    "    cluster_tfidf = vectorizer.transform(cluster_text)\n",
    "    feature_names = vectorizer.get_feature_names_out()\n",
    "    tfidf_scores = cluster_tfidf.toarray().sum(axis=0)\n",
    "    \n",
    "    # Get top keywords (Top 10)\n",
    "    top_keywords_idx = tfidf_scores.argsort()[-10:][::-1]  \n",
    "    top_keywords = [feature_names[idx] for idx in top_keywords_idx]\n",
    "    \n",
    "    # Summarize representative documents\n",
    "    representative_documents = cluster_df['filename'].head(3).tolist() \n",
    "    \n",
    "    # Store cluster summary\n",
    "    cluster_summary = {\n",
    "        'Cluster': cluster_label,\n",
    "        'Top Keywords': top_keywords,\n",
    "        'Representative Documents': representative_documents\n",
    "    }\n",
    "    cluster_summaries[cluster_label] = cluster_summary\n",
    "\n",
    "for cluster_label, summary in cluster_summaries.items():\n",
    "    print(f\"Cluster {cluster_label}:\")\n",
    "    print(f\"Top Keywords: {', '.join(summary['Top Keywords'])}\")\n",
    "    print(\"Representative Documents:\")\n",
    "    for doc in summary['Representative Documents']:\n",
    "        print(f\"- {doc}\")\n",
    "    print()"
   ]
  },
  {
   "cell_type": "markdown",
   "metadata": {},
   "source": [
    "9. Interpretation"
   ]
  },
  {
   "cell_type": "code",
   "execution_count": 13,
   "metadata": {},
   "outputs": [
    {
     "name": "stdout",
     "output_type": "stream",
     "text": [
      "MuPDF error: syntax error: cannot find XObject resource 'R298'\n",
      "\n",
      "Cluster 0:\n",
      "Number of audit files: 3\n",
      "Compliance Issues Found: ['violation', 'security', 'regulation']\n",
      "Locations Found: ['France', 'Portugal', 'Switzerland']\n",
      "\n",
      "Cluster 1:\n",
      "Number of audit files: 30\n",
      "Compliance Issues Found: ['violation', 'security', 'regulation']\n",
      "Locations Found: ['Latvia', 'FinlandGasgrid Finland', 'Hungary', 'GSE', 'Lithuania', 'Belgium WalloniaBelgium', 'GTS SpainSpain', 'Ireland', 'Netherlands', 'Flanders', 'Denmark', 'Croatia', 'Slovenia', 'Germany', 'Norway', 'Serbia', 'BRUGEL', 'Spain', 'Greece', 'DPCY', 'Luxembourg', 'DPLV-AST', 'Czech Republic', 'Sweden', 'Austria', 'Finland', 'Iceland', 'Slovakia', 'Estonia']\n",
      "\n"
     ]
    }
   ],
   "source": [
    "df['cluster_label'] = clusters\n",
    "\n",
    "# Function to analyze compliance issues in each PDF within a cluster\n",
    "def analyze_compliance_issues(pdf_directory, df, cluster_label):\n",
    "    cluster_df = df[df['cluster_label'] == cluster_label]\n",
    "    unique_compliance = set()\n",
    "    locations_found = set()\n",
    "    \n",
    "    for index, row in cluster_df.iterrows():\n",
    "        pdf_path = os.path.join(pdf_directory, row['filename'])\n",
    "        text = extract_text_from_pdf(pdf_path)\n",
    "        \n",
    "        # Perform compliance issue analysis \n",
    "        compliance_keywords = ['violation', 'regulation', 'security']\n",
    "        \n",
    "        for keyword in compliance_keywords:\n",
    "            if keyword in text.lower():\n",
    "                unique_compliance.add(keyword)\n",
    "                locations_found.add(row['locations'])  \n",
    "        \n",
    "    if unique_compliance:\n",
    "        print(f\"Cluster {cluster_label}:\")\n",
    "        print(f\"Number of audit files: {len(cluster_df)}\") \n",
    "        print(f\"Compliance Issues Found: {list(unique_compliance)}\")\n",
    "        print(f\"Locations Found: {list(locations_found)}\")\n",
    "        print()\n",
    "\n",
    "# Analyze compliance issues in each cluster\n",
    "for cluster_label in range(num_clusters):\n",
    "    # print(f\"Analyzing Cluster {cluster_label}...\")\n",
    "    analyze_compliance_issues(pdf_directory, df, cluster_label)"
   ]
  },
  {
   "cell_type": "markdown",
   "metadata": {},
   "source": [
    "10. Evaluation - \"Silhouette score\""
   ]
  },
  {
   "cell_type": "code",
   "execution_count": 14,
   "metadata": {},
   "outputs": [
    {
     "name": "stdout",
     "output_type": "stream",
     "text": [
      "Silhouette Score: 0.05068656821656082\n"
     ]
    }
   ],
   "source": [
    "# Calculate silhouette score\n",
    "cluster_labels = kmeans.predict(X)\n",
    "silhouette_avg = silhouette_score(X, cluster_labels)\n",
    "print(f\"Silhouette Score: {silhouette_avg}\")"
   ]
  },
  {
   "cell_type": "markdown",
   "metadata": {},
   "source": [
    "`Inference`: The low silhouette score (0.05) obtained from K-means clustering with 2 clusters suggests that the algorithm may not effectively capture the underlying patterns in the data.\n",
    "\n",
    "Hence, exploring alternative clustering techniques such as hierarchical clustering or Gaussian mixture models could provide more meaningful insights."
   ]
  },
  {
   "cell_type": "code",
   "execution_count": null,
   "metadata": {},
   "outputs": [],
   "source": []
  }
 ],
 "metadata": {
  "kernelspec": {
   "display_name": "Python 3",
   "language": "python",
   "name": "python3"
  },
  "language_info": {
   "codemirror_mode": {
    "name": "ipython",
    "version": 3
   },
   "file_extension": ".py",
   "mimetype": "text/x-python",
   "name": "python",
   "nbconvert_exporter": "python",
   "pygments_lexer": "ipython3",
   "version": "3.12.3"
  }
 },
 "nbformat": 4,
 "nbformat_minor": 2
}
